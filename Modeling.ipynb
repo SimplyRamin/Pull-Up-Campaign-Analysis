{
 "cells": [
  {
   "cell_type": "markdown",
   "metadata": {},
   "source": [
    "# Modeling\n",
    "The modeling phase of this project consists of 2 approaches of learning, in which we plan to test and grid search among the best and most accurate model. below we are going to develope the theoretical foundations of these algorithms:\n",
    "\n",
    "- Regression, for regression we are using these machine learning algorithms, train the model based on the best hyperparameter combination and finally select the most accurate model.\n",
    "    - multiple linear regression\n",
    "    - polynomial regression\n",
    "    - ridge\n",
    "    - lasso\n",
    "    - support vector machine\n",
    "    - k-nearest neighbor\n",
    "    - decision tree\n",
    "    - random forest\n",
    "- binary-class classification, we have 2 classification problems in this project, one binary classification, one multi class classification, implemented algorithms for classification will be these algorithms:\n",
    "    - logistic regression\n",
    "    - k-nearest neighbor\n",
    "    - decision tree\n",
    "    - support vector machine\n",
    "    - gradient boosting\n",
    "- for unsupervised learning and clusteirng approach of this project we will implement density-based clusteirng and DBSCAN algorithm.\n",
    "----"
   ]
  },
  {
   "cell_type": "code",
   "execution_count": 38,
   "metadata": {},
   "outputs": [],
   "source": [
    "import pandas as pd\n",
    "import numpy as np\n",
    "import matplotlib.pyplot as plt\n",
    "import matplotlib.patches as patches\n",
    "import warnings\n",
    "import matplotlib\n",
    "warnings.filterwarnings(\"ignore\")\n",
    "import seaborn as sns\n",
    "from openpyxl import load_workbook\n",
    "np.set_printoptions(suppress=True)\n",
    "pd.set_option('display.float_format', lambda x: '%.2f' % x)\n",
    "from sklearn import preprocessing\n",
    "from sklearn.model_selection import KFold, cross_val_score, train_test_split\n",
    "from tqdm import tqdm"
   ]
  },
  {
   "cell_type": "code",
   "execution_count": 3,
   "metadata": {},
   "outputs": [
    {
     "name": "stdout",
     "output_type": "stream",
     "text": [
      "Datasets Loaded Completely.\n"
     ]
    }
   ],
   "source": [
    "xls = pd.ExcelFile('data/Main Dataset V3.0 .xlsx')\n",
    "ad_post = pd.read_excel(xls, 'Ad-Post')\n",
    "ad_story = pd.read_excel(xls, 'Ad-Story')\n",
    "influencer = pd.read_excel(xls, 'Influencer')\n",
    "leaders_post = pd.read_excel(xls, 'Leaders-Post')\n",
    "leaders_story = pd.read_excel(xls, 'Leaders-Story')\n",
    "post = pd.read_excel(xls, 'Post')\n",
    "story = pd.read_excel(xls, 'Story')\n",
    "print('Datasets Loaded Completely.')"
   ]
  },
  {
   "cell_type": "markdown",
   "metadata": {},
   "source": [
    "since there are some categorical variables, we need to address them before using them for training the models based on them, since we are using multiple approaches thus the encoding approach can be different. for instance when we are using algorithms based on tree, label encoding is better than one hot encoding. on that circumstances, we are implementing different encoding and use the apropriate one for modeling technique."
   ]
  },
  {
   "cell_type": "code",
   "execution_count": 129,
   "metadata": {},
   "outputs": [],
   "source": [
    "#dummying dataset\n",
    "\n",
    "# advertising posts\n",
    "dummy_field = pd.get_dummies(ad_post['field'], prefix='field')\n",
    "ad_post_dummy = pd.concat([ad_post, dummy_field], axis=1)\n",
    "ad_post_dummy.drop(['field'], axis=1, inplace=True)\n",
    "\n",
    "# advertising stories\n",
    "dummy_field = pd.get_dummies(ad_story['field'], prefix='field')\n",
    "ad_story_dummy = pd.concat([ad_story, dummy_field], axis=1)\n",
    "ad_story_dummy.drop(['field'], axis=1, inplace=True)\n",
    "\n",
    "#influencer\n",
    "dummy_gender = pd.get_dummies(influencer['gender'], prefix='gender')\n",
    "dummy_field = pd.get_dummies(influencer['field'], prefix='field')\n",
    "influencer_dummy = pd.concat([influencer, dummy_gender, dummy_field], axis=1)\n",
    "influencer_dummy.drop(['gender', 'field'], axis=1, inplace=True)\n",
    "\n",
    "#leaders posts\n",
    "dummy_gender = pd.get_dummies(leaders_post['gender'], prefix='gender')\n",
    "leaders_post_dummy = pd.concat([leaders_post, dummy_gender], axis=1)\n",
    "leaders_post_dummy.drop(['gender'], axis=1, inplace=True)"
   ]
  },
  {
   "cell_type": "code",
   "execution_count": 137,
   "metadata": {},
   "outputs": [],
   "source": [
    "# label encoding dataset\n",
    "\n",
    "# advertising posts\n",
    "labels, _ = pd.factorize(ad_post['field'])\n",
    "ad_post_labelencoded = ad_post\n",
    "ad_post_labelencoded['field_labelencoded'] = labels.tolist()\n",
    "\n",
    "# advertising stories\n",
    "labels, _ = pd.factorize(ad_story['field'])\n",
    "ad_story_labelencoded = ad_story\n",
    "ad_story_labelencoded['field_labelencoded'] = labels.tolist()\n",
    "\n",
    "# influencer\n",
    "labels, _ = pd.factorize(influencer['gender'])\n",
    "influencer_labelencoded = influencer\n",
    "influencer_labelencoded['gender_labelencoded'] = labels.tolist()\n",
    "labels, _ = pd.factorize(influencer['field'])\n",
    "influencer_labelencoded['field_labelencoded'] = labels.tolist()\n",
    "\n",
    "# leaders post\n",
    "labels, _ = pd.factorize(leaders_post['gender'])\n",
    "leaders_post_labelencoded = leaders_post\n",
    "leaders_post_labelencoded['gender_labelencoded'] = labels.tolist()"
   ]
  },
  {
   "cell_type": "markdown",
   "metadata": {},
   "source": [
    "## Regression\n",
    "### Linear Regression"
   ]
  },
  {
   "cell_type": "code",
   "execution_count": 139,
   "metadata": {},
   "outputs": [],
   "source": [
    "from sklearn.linear_model import LinearRegression"
   ]
  },
  {
   "cell_type": "code",
   "execution_count": 94,
   "metadata": {},
   "outputs": [],
   "source": [
    "ad_post_y = np.asarray(ad_post_dummy['cost'])\n",
    "ad_post_x = np.asarray(ad_post_dummy.loc[:, ['follower', 'view', 'threshold', 'field_art & culture', 'field_fact', 'field_video', 'field_video']])"
   ]
  },
  {
   "cell_type": "code",
   "execution_count": 98,
   "metadata": {},
   "outputs": [
    {
     "name": "stderr",
     "output_type": "stream",
     "text": [
      "100%|██████████| 8/8 [00:00<00:00, 71.62it/s]\n"
     ]
    },
    {
     "data": {
      "text/html": [
       "<div>\n",
       "<style scoped>\n",
       "    .dataframe tbody tr th:only-of-type {\n",
       "        vertical-align: middle;\n",
       "    }\n",
       "\n",
       "    .dataframe tbody tr th {\n",
       "        vertical-align: top;\n",
       "    }\n",
       "\n",
       "    .dataframe thead th {\n",
       "        text-align: right;\n",
       "    }\n",
       "</style>\n",
       "<table border=\"1\" class=\"dataframe\">\n",
       "  <thead>\n",
       "    <tr style=\"text-align: right;\">\n",
       "      <th></th>\n",
       "      <th>k</th>\n",
       "      <th>Unnormalized Train Score</th>\n",
       "      <th>Normalized Train Score</th>\n",
       "      <th>Unnormalized Test Score</th>\n",
       "      <th>Normalized Test Score</th>\n",
       "    </tr>\n",
       "  </thead>\n",
       "  <tbody>\n",
       "    <tr>\n",
       "      <th>0</th>\n",
       "      <td>2</td>\n",
       "      <td>0.95</td>\n",
       "      <td>0.95</td>\n",
       "      <td>0.71</td>\n",
       "      <td>0.71</td>\n",
       "    </tr>\n",
       "    <tr>\n",
       "      <th>1</th>\n",
       "      <td>3</td>\n",
       "      <td>0.93</td>\n",
       "      <td>0.93</td>\n",
       "      <td>0.77</td>\n",
       "      <td>0.77</td>\n",
       "    </tr>\n",
       "    <tr>\n",
       "      <th>2</th>\n",
       "      <td>4</td>\n",
       "      <td>0.93</td>\n",
       "      <td>0.93</td>\n",
       "      <td>0.48</td>\n",
       "      <td>0.48</td>\n",
       "    </tr>\n",
       "    <tr>\n",
       "      <th>3</th>\n",
       "      <td>5</td>\n",
       "      <td>0.93</td>\n",
       "      <td>0.93</td>\n",
       "      <td>0.54</td>\n",
       "      <td>0.54</td>\n",
       "    </tr>\n",
       "    <tr>\n",
       "      <th>4</th>\n",
       "      <td>6</td>\n",
       "      <td>0.92</td>\n",
       "      <td>0.92</td>\n",
       "      <td>0.35</td>\n",
       "      <td>0.35</td>\n",
       "    </tr>\n",
       "    <tr>\n",
       "      <th>5</th>\n",
       "      <td>7</td>\n",
       "      <td>0.92</td>\n",
       "      <td>0.92</td>\n",
       "      <td>0.05</td>\n",
       "      <td>0.05</td>\n",
       "    </tr>\n",
       "    <tr>\n",
       "      <th>6</th>\n",
       "      <td>8</td>\n",
       "      <td>0.92</td>\n",
       "      <td>0.92</td>\n",
       "      <td>-0.04</td>\n",
       "      <td>-0.04</td>\n",
       "    </tr>\n",
       "    <tr>\n",
       "      <th>7</th>\n",
       "      <td>9</td>\n",
       "      <td>0.92</td>\n",
       "      <td>0.92</td>\n",
       "      <td>-3.50</td>\n",
       "      <td>-3.50</td>\n",
       "    </tr>\n",
       "  </tbody>\n",
       "</table>\n",
       "</div>"
      ],
      "text/plain": [
       "   k  Unnormalized Train Score  Normalized Train Score  \\\n",
       "0  2                      0.95                    0.95   \n",
       "1  3                      0.93                    0.93   \n",
       "2  4                      0.93                    0.93   \n",
       "3  5                      0.93                    0.93   \n",
       "4  6                      0.92                    0.92   \n",
       "5  7                      0.92                    0.92   \n",
       "6  8                      0.92                    0.92   \n",
       "7  9                      0.92                    0.92   \n",
       "\n",
       "   Unnormalized Test Score  Normalized Test Score  \n",
       "0                     0.71                   0.71  \n",
       "1                     0.77                   0.77  \n",
       "2                     0.48                   0.48  \n",
       "3                     0.54                   0.54  \n",
       "4                     0.35                   0.35  \n",
       "5                     0.05                   0.05  \n",
       "6                    -0.04                  -0.04  \n",
       "7                    -3.50                  -3.50  "
      ]
     },
     "execution_count": 98,
     "metadata": {},
     "output_type": "execute_result"
    }
   ],
   "source": [
    "temp_lst = []\n",
    "for i in tqdm(range(2, 10)):\n",
    "    kf = KFold(n_splits = i)\n",
    "    for train_index, test_index in kf.split(ad_post_x):\n",
    "        X_train, X_test = ad_post_x[train_index], ad_post_x[test_index]\n",
    "        y_train, y_test = ad_post_y[train_index], ad_post_y[test_index]\n",
    "        reg_lr_unnormalize = LinearRegression()\n",
    "        reg_lr_normalize = LinearRegression(normalize=True)\n",
    "        reg_lr_unnormalize.fit(X_train, y_train)\n",
    "        reg_lr_normalize.fit(X_train, y_train)\n",
    "        temp_lst2 = []\n",
    "        temp_lst2.append(i)\n",
    "        temp_lst2.append(reg_lr_unnormalize.score(X_train, y_train))\n",
    "        temp_lst2.append(reg_lr_normalize.score(X_train, y_train))\n",
    "        temp_lst2.append(reg_lr_unnormalize.score(X_test, y_test))\n",
    "        temp_lst2.append(reg_lr_normalize.score(X_test, y_test))\n",
    "        temp_lst.append(temp_lst2)\n",
    "\n",
    "temp_df = pd.DataFrame(temp_lst, columns=['k', 'Unnormalized Train Score', 'Normalized Train Score', 'Unnormalized Test Score', 'Normalized Test Score'])\n",
    "\n",
    "temp_lst = []\n",
    "for k in range(2, 10):\n",
    "    temp_lst2 = []\n",
    "    temp_lst2.append(k)\n",
    "    temp_lst2.append(np.round(np.mean(temp_df[(temp_df['k'] == k)]['Unnormalized Train Score']), decimals=4))\n",
    "    temp_lst2.append(np.round(np.mean(temp_df[(temp_df['k'] == k)]['Normalized Train Score']), decimals=4))\n",
    "    temp_lst2.append(np.round(np.mean(temp_df[(temp_df['k'] == k)]['Unnormalized Test Score']), decimals=4))\n",
    "    temp_lst2.append(np.round(np.mean(temp_df[(temp_df['k'] == k)]['Normalized Test Score']), decimals=4))\n",
    "    temp_lst.append(temp_lst2)\n",
    "\n",
    "reg_lr_eval_df = pd.DataFrame(temp_lst, columns=['k', 'Unnormalized Train Score', 'Normalized Train Score', 'Unnormalized Test Score', 'Normalized Test Score'])\n",
    "reg_lr_eval_df"
   ]
  },
  {
   "cell_type": "markdown",
   "metadata": {},
   "source": [
    "as you can see the best model for linear regression was 3-folded with accuracy of 77% in test dataset. in the cell below we are going to implement this as final model, also normalizing data wouldn't affect the overall accuracy so we dont normalize data."
   ]
  },
  {
   "cell_type": "code",
   "execution_count": 99,
   "metadata": {},
   "outputs": [],
   "source": [
    "kf = KFold(n_splits = 3)\n",
    "temp_lst = []\n",
    "reg_lr = LinearRegression()\n",
    "for train_index, test_index in kf.split(ad_post_x):\n",
    "    X_train, X_test = ad_post_x[train_index], ad_post_x[test_index]\n",
    "    y_train, y_test = ad_post_y[train_index], ad_post_y[test_index]\n",
    "    reg_lr.fit(X_train, y_train)"
   ]
  },
  {
   "cell_type": "code",
   "execution_count": 120,
   "metadata": {},
   "outputs": [
    {
     "data": {
      "image/png": "[encoded data removed]",
      "text/plain": [
       "<Figure size 1296x432 with 2 Axes>"
      ]
     },
     "metadata": {
      "needs_background": "light"
     },
     "output_type": "display_data"
    }
   ],
   "source": [
    "fig = plt.figure(figsize = (18, 6))\n",
    "ax1 = fig.add_subplot(1,2,1)\n",
    "ax2 = fig.add_subplot(1,2,2)\n",
    "\n",
    "axs = [ax1, ax2]\n",
    "feature_lst = ['follower', 'view']\n",
    "\n",
    "for ax, feature in zip(axs, feature_lst):\n",
    "    ax.scatter(ad_post_dummy[feature], ad_post_dummy['cost'], label='Data Points')\n",
    "    X_plot = np.arange(ad_post_dummy[feature].min(), ad_post_dummy[feature].max() , 1)\n",
    "    y_plot = reg_lr.coef_[axs.index(ax)] * X_plot + reg_lr.intercept_\n",
    "    ax.plot(X_plot, y_plot, '-r', label='Fitted Model')\n",
    "    ax.get_yaxis().set_major_formatter(matplotlib.ticker.FuncFormatter(lambda x, p: format(int(x), ',')))\n",
    "    ax.get_xaxis().set_major_formatter(matplotlib.ticker.FuncFormatter(lambda x, p: format(int(x), ',')))\n",
    "    ax.set_title(f'Advertising Posts, Cost vs {feature}, Most Accurate Linear Regression Model (3-folded)')\n",
    "    ax.set_xlabel(feature)\n",
    "    ax.set_ylabel('cost')\n",
    "    ax.legend()\n",
    "plt.show()"
   ]
  },
  {
   "cell_type": "markdown",
   "metadata": {},
   "source": [
    "### Polynomial Regression"
   ]
  },
  {
   "cell_type": "code",
   "execution_count": null,
   "metadata": {},
   "outputs": [],
   "source": []
  }
 ],
 "metadata": {
  "kernelspec": {
   "display_name": "Python 3",
   "language": "python",
   "name": "python3"
  },
  "language_info": {
   "codemirror_mode": {
    "name": "ipython",
    "version": 3
   },
   "file_extension": ".py",
   "mimetype": "text/x-python",
   "name": "python",
   "nbconvert_exporter": "python",
   "pygments_lexer": "ipython3",
   "version": "3.8.5"
  }
 },
 "nbformat": 4,
 "nbformat_minor": 4
}
