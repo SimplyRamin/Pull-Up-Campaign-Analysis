{
 "cells": [
  {
   "cell_type": "markdown",
   "metadata": {},
   "source": [
    "# Modeling\n",
    "in previous notebook we investigated the linear algorithms for regression problem which we discussed previously. in this notebook we are going to discuss non-linear approaches for regression problem. the non-linear algorithms which we will check in this notebook are:\n",
    "- k-nearest neighbor\n",
    "- decision tree\n",
    "- random forest\n",
    "\n",
    "and in the next notebooks we will discuss classification and clustering algorithms.\n",
    "\n",
    "the reason behind the dividing the notebooks is making the understanding of principles more easily.\n",
    "\n",
    "----"
   ]
  },
  {
   "cell_type": "code",
   "execution_count": 1,
   "metadata": {},
   "outputs": [],
   "source": [
    "import pandas as pd\n",
    "import numpy as np\n",
    "import matplotlib.pyplot as plt\n",
    "import matplotlib.patches as patches\n",
    "import warnings\n",
    "import matplotlib\n",
    "warnings.filterwarnings(\"ignore\")\n",
    "pd.set_option('display.max_rows', 200)\n",
    "import seaborn as sns\n",
    "from openpyxl import load_workbook\n",
    "np.set_printoptions(suppress=True)\n",
    "pd.set_option('display.float_format', lambda x: '%.2f' % x)\n",
    "from sklearn import preprocessing\n",
    "from sklearn.model_selection import KFold, cross_val_score, train_test_split\n",
    "from tqdm import tqdm"
   ]
  },
  {
   "cell_type": "code",
   "execution_count": 2,
   "metadata": {},
   "outputs": [
    {
     "name": "stdout",
     "output_type": "stream",
     "text": [
      "Datasets Loaded Completely.\n"
     ]
    }
   ],
   "source": [
    "xls = pd.ExcelFile('data/Main Dataset V3.0 .xlsx')\n",
    "ad_post = pd.read_excel(xls, 'Ad-Post')\n",
    "ad_story = pd.read_excel(xls, 'Ad-Story')\n",
    "influencer = pd.read_excel(xls, 'Influencer')\n",
    "leaders_post = pd.read_excel(xls, 'Leaders-Post')\n",
    "leaders_story = pd.read_excel(xls, 'Leaders-Story')\n",
    "post = pd.read_excel(xls, 'Post')\n",
    "story = pd.read_excel(xls, 'Story')\n",
    "print('Datasets Loaded Completely.')"
   ]
  },
  {
   "cell_type": "code",
   "execution_count": 3,
   "metadata": {},
   "outputs": [],
   "source": [
    "#dummying dataset\n",
    "\n",
    "# advertising posts\n",
    "dummy_field = pd.get_dummies(ad_post['field'], prefix='field')\n",
    "ad_post_dummy = pd.concat([ad_post, dummy_field], axis=1)\n",
    "ad_post_dummy.drop(['field'], axis=1, inplace=True)\n",
    "\n",
    "# advertising stories\n",
    "dummy_field = pd.get_dummies(ad_story['field'], prefix='field')\n",
    "ad_story_dummy = pd.concat([ad_story, dummy_field], axis=1)\n",
    "ad_story_dummy.drop(['field'], axis=1, inplace=True)\n",
    "\n",
    "#influencer\n",
    "dummy_gender = pd.get_dummies(influencer['gender'], prefix='gender')\n",
    "dummy_field = pd.get_dummies(influencer['field'], prefix='field')\n",
    "influencer_dummy = pd.concat([influencer, dummy_gender, dummy_field], axis=1)\n",
    "influencer_dummy.drop(['gender', 'field'], axis=1, inplace=True)\n",
    "\n",
    "#leaders posts\n",
    "dummy_gender = pd.get_dummies(leaders_post['gender'], prefix='gender')\n",
    "leaders_post_dummy = pd.concat([leaders_post, dummy_gender], axis=1)\n",
    "leaders_post_dummy.drop(['gender'], axis=1, inplace=True)"
   ]
  },
  {
   "cell_type": "code",
   "execution_count": 4,
   "metadata": {},
   "outputs": [],
   "source": [
    "# label encoding dataset\n",
    "\n",
    "# advertising posts\n",
    "labels, _ = pd.factorize(ad_post['field'])\n",
    "ad_post_labelencoded = ad_post\n",
    "ad_post_labelencoded['field_labelencoded'] = labels.tolist()\n",
    "\n",
    "# advertising stories\n",
    "labels, _ = pd.factorize(ad_story['field'])\n",
    "ad_story_labelencoded = ad_story\n",
    "ad_story_labelencoded['field_labelencoded'] = labels.tolist()\n",
    "\n",
    "# influencer\n",
    "labels, _ = pd.factorize(influencer['gender'])\n",
    "influencer_labelencoded = influencer\n",
    "influencer_labelencoded['gender_labelencoded'] = labels.tolist()\n",
    "labels, _ = pd.factorize(influencer['field'])\n",
    "influencer_labelencoded['field_labelencoded'] = labels.tolist()\n",
    "\n",
    "# leaders post\n",
    "labels, _ = pd.factorize(leaders_post['gender'])\n",
    "leaders_post_labelencoded = leaders_post\n",
    "leaders_post_labelencoded['gender_labelencoded'] = labels.tolist()"
   ]
  },
  {
   "cell_type": "code",
   "execution_count": 5,
   "metadata": {},
   "outputs": [],
   "source": [
    "ad_post_y = np.asarray(ad_post_dummy[['cost']])\n",
    "ad_post_x = np.asarray(ad_post_dummy[['follower', 'view', 'field_art & culture', 'field_fact', 'field_video', 'field_women']])\n",
    "\n",
    "ad_story_y = np.asarray(ad_story_dummy[['cost']])\n",
    "ad_story_x = np.asarray(ad_story_dummy[['view', 'follower', 'action', 'interaction', 'impression', 'field_art & culture', 'field_fact', 'field_health',\n",
    "                                       'field_news', 'field_video', 'field_women']])\n",
    "\n",
    "influencer_y = np.asarray(influencer_dummy[['cost']])\n",
    "influencer_x = np.asarray(influencer_dummy[['follower', 'view', 'action', 'impression', 'cta', 'interaction', 'gender_family', 'gender_female', 'gender_male',\n",
    "                                           'field_cooking', 'field_health', 'field_lifestyle', 'field_sport', 'field_tourism']])\n",
    "\n",
    "leaders_post_y = np.asarray(leaders_post_dummy[['cost']])\n",
    "leaders_post_x = np.asarray(leaders_post_dummy[['follower', 'view', 'like', 'comment', 'share', 'save', 'profile_visit', 'reach', 'impression', 'gender_family',\n",
    "                                               'gender_female', 'gender_male']])"
   ]
  },
  {
   "cell_type": "markdown",
   "metadata": {},
   "source": [
    "### K-Nearest Neighbor Regressor"
   ]
  },
  {
   "cell_type": "markdown",
   "metadata": {},
   "source": [
    "#### Advertising Posts"
   ]
  },
  {
   "cell_type": "code",
   "execution_count": 7,
   "metadata": {},
   "outputs": [],
   "source": [
    "from sklearn.neighbors import KNeighborsRegressor, RadiusNeighborsRegressor"
   ]
  },
  {
   "cell_type": "code",
   "execution_count": 8,
   "metadata": {},
   "outputs": [],
   "source": [
    "weights = ['uniform', 'distance']"
   ]
  },
  {
   "cell_type": "code",
   "execution_count": 38,
   "metadata": {},
   "outputs": [
    {
     "name": "stdout",
     "output_type": "stream",
     "text": [
      "8\n",
      "[1.         1.14285714 1.28571429 1.42857143 1.57142857 1.71428571\n",
      " 1.85714286 2.        ]\n"
     ]
    }
   ],
   "source": [
    "print(len(np.arange(2,10)))\n",
    "print(np.linspace(1, 2, 8))\n",
    "# r_test = [0, .1, .8, .3, .9, .5, 1, .7]"
   ]
  },
  {
   "cell_type": "code",
   "execution_count": 44,
   "metadata": {},
   "outputs": [
    {
     "data": {
      "text/plain": [
       "array([[1000000.,    9435.,       0.,       0.,       1.,       0.],\n",
       "       [1700000.,    7926.,       0.,       0.,       1.,       0.],\n",
       "       [1700000.,   19433.,       0.,       1.,       0.,       0.],\n",
       "       [ 224000.,    8424.,       1.,       0.,       0.,       0.],\n",
       "       [1000000.,    8212.,       0.,       1.,       0.,       0.],\n",
       "       [4500000.,   40630.,       0.,       1.,       0.,       0.],\n",
       "       [1900000.,   16779.,       0.,       1.,       0.,       0.],\n",
       "       [ 294000.,    9278.,       1.,       0.,       0.,       0.],\n",
       "       [ 275000.,   14550.,       1.,       0.,       0.,       0.],\n",
       "       [1200000.,   15631.,       0.,       0.,       1.,       0.],\n",
       "       [1500000.,   29296.,       0.,       1.,       0.,       0.],\n",
       "       [1100000.,   14346.,       0.,       1.,       0.,       0.],\n",
       "       [ 194000.,   12609.,       1.,       0.,       0.,       0.],\n",
       "       [ 874000.,   18645.,       1.,       0.,       0.,       0.]])"
      ]
     },
     "execution_count": 44,
     "metadata": {},
     "output_type": "execute_result"
    }
   ],
   "source": [
    "X_test.astype('float64')"
   ]
  },
  {
   "cell_type": "code",
   "execution_count": 49,
   "metadata": {},
   "outputs": [
    {
     "name": "stderr",
     "output_type": "stream",
     "text": [
      "  0%|          | 0/7 [00:00<?, ?it/s]\n"
     ]
    },
    {
     "ename": "ValueError",
     "evalue": "Input contains NaN, infinity or a value too large for dtype('float64').",
     "output_type": "error",
     "traceback": [
      "\u001b[1;31m---------------------------------------------------------------------------\u001b[0m",
      "\u001b[1;31mValueError\u001b[0m                                Traceback (most recent call last)",
      "\u001b[1;32m<ipython-input-49-76387d75fec4>\u001b[0m in \u001b[0;36m<module>\u001b[1;34m\u001b[0m\n\u001b[0;32m     21\u001b[0m                 \u001b[0mtemp_lst2\u001b[0m\u001b[1;33m.\u001b[0m\u001b[0mappend\u001b[0m\u001b[1;33m(\u001b[0m\u001b[0mknr\u001b[0m\u001b[1;33m.\u001b[0m\u001b[0mscore\u001b[0m\u001b[1;33m(\u001b[0m\u001b[0mX_test\u001b[0m\u001b[1;33m,\u001b[0m \u001b[0my_test\u001b[0m\u001b[1;33m)\u001b[0m\u001b[1;33m)\u001b[0m\u001b[1;33m\u001b[0m\u001b[1;33m\u001b[0m\u001b[0m\n\u001b[0;32m     22\u001b[0m \u001b[1;31m#                 temp_lst2.append(0)\u001b[0m\u001b[1;33m\u001b[0m\u001b[1;33m\u001b[0m\u001b[1;33m\u001b[0m\u001b[0m\n\u001b[1;32m---> 23\u001b[1;33m                 \u001b[0mtemp_lst2\u001b[0m\u001b[1;33m.\u001b[0m\u001b[0mappend\u001b[0m\u001b[1;33m(\u001b[0m\u001b[0mrnr\u001b[0m\u001b[1;33m.\u001b[0m\u001b[0mscore\u001b[0m\u001b[1;33m(\u001b[0m\u001b[0mX_test\u001b[0m\u001b[1;33m,\u001b[0m \u001b[0my_test\u001b[0m\u001b[1;33m)\u001b[0m\u001b[1;33m)\u001b[0m\u001b[1;33m\u001b[0m\u001b[1;33m\u001b[0m\u001b[0m\n\u001b[0m\u001b[0;32m     24\u001b[0m                 \u001b[0mtemp_lst\u001b[0m\u001b[1;33m.\u001b[0m\u001b[0mappend\u001b[0m\u001b[1;33m(\u001b[0m\u001b[0mtemp_lst2\u001b[0m\u001b[1;33m)\u001b[0m\u001b[1;33m\u001b[0m\u001b[1;33m\u001b[0m\u001b[0m\n\u001b[0;32m     25\u001b[0m \u001b[1;33m\u001b[0m\u001b[0m\n",
      "\u001b[1;32m~\\anaconda3\\lib\\site-packages\\sklearn\\base.py\u001b[0m in \u001b[0;36mscore\u001b[1;34m(self, X, y, sample_weight)\u001b[0m\n\u001b[0;32m    550\u001b[0m         \u001b[1;32mfrom\u001b[0m \u001b[1;33m.\u001b[0m\u001b[0mmetrics\u001b[0m \u001b[1;32mimport\u001b[0m \u001b[0mr2_score\u001b[0m\u001b[1;33m\u001b[0m\u001b[1;33m\u001b[0m\u001b[0m\n\u001b[0;32m    551\u001b[0m         \u001b[0my_pred\u001b[0m \u001b[1;33m=\u001b[0m \u001b[0mself\u001b[0m\u001b[1;33m.\u001b[0m\u001b[0mpredict\u001b[0m\u001b[1;33m(\u001b[0m\u001b[0mX\u001b[0m\u001b[1;33m)\u001b[0m\u001b[1;33m\u001b[0m\u001b[1;33m\u001b[0m\u001b[0m\n\u001b[1;32m--> 552\u001b[1;33m         \u001b[1;32mreturn\u001b[0m \u001b[0mr2_score\u001b[0m\u001b[1;33m(\u001b[0m\u001b[0my\u001b[0m\u001b[1;33m,\u001b[0m \u001b[0my_pred\u001b[0m\u001b[1;33m,\u001b[0m \u001b[0msample_weight\u001b[0m\u001b[1;33m=\u001b[0m\u001b[0msample_weight\u001b[0m\u001b[1;33m)\u001b[0m\u001b[1;33m\u001b[0m\u001b[1;33m\u001b[0m\u001b[0m\n\u001b[0m\u001b[0;32m    553\u001b[0m \u001b[1;33m\u001b[0m\u001b[0m\n\u001b[0;32m    554\u001b[0m     \u001b[1;32mdef\u001b[0m \u001b[0m_more_tags\u001b[0m\u001b[1;33m(\u001b[0m\u001b[0mself\u001b[0m\u001b[1;33m)\u001b[0m\u001b[1;33m:\u001b[0m\u001b[1;33m\u001b[0m\u001b[1;33m\u001b[0m\u001b[0m\n",
      "\u001b[1;32m~\\anaconda3\\lib\\site-packages\\sklearn\\utils\\validation.py\u001b[0m in \u001b[0;36minner_f\u001b[1;34m(*args, **kwargs)\u001b[0m\n\u001b[0;32m     70\u001b[0m                           FutureWarning)\n\u001b[0;32m     71\u001b[0m         \u001b[0mkwargs\u001b[0m\u001b[1;33m.\u001b[0m\u001b[0mupdate\u001b[0m\u001b[1;33m(\u001b[0m\u001b[1;33m{\u001b[0m\u001b[0mk\u001b[0m\u001b[1;33m:\u001b[0m \u001b[0marg\u001b[0m \u001b[1;32mfor\u001b[0m \u001b[0mk\u001b[0m\u001b[1;33m,\u001b[0m \u001b[0marg\u001b[0m \u001b[1;32min\u001b[0m \u001b[0mzip\u001b[0m\u001b[1;33m(\u001b[0m\u001b[0msig\u001b[0m\u001b[1;33m.\u001b[0m\u001b[0mparameters\u001b[0m\u001b[1;33m,\u001b[0m \u001b[0margs\u001b[0m\u001b[1;33m)\u001b[0m\u001b[1;33m}\u001b[0m\u001b[1;33m)\u001b[0m\u001b[1;33m\u001b[0m\u001b[1;33m\u001b[0m\u001b[0m\n\u001b[1;32m---> 72\u001b[1;33m         \u001b[1;32mreturn\u001b[0m \u001b[0mf\u001b[0m\u001b[1;33m(\u001b[0m\u001b[1;33m**\u001b[0m\u001b[0mkwargs\u001b[0m\u001b[1;33m)\u001b[0m\u001b[1;33m\u001b[0m\u001b[1;33m\u001b[0m\u001b[0m\n\u001b[0m\u001b[0;32m     73\u001b[0m     \u001b[1;32mreturn\u001b[0m \u001b[0minner_f\u001b[0m\u001b[1;33m\u001b[0m\u001b[1;33m\u001b[0m\u001b[0m\n\u001b[0;32m     74\u001b[0m \u001b[1;33m\u001b[0m\u001b[0m\n",
      "\u001b[1;32m~\\anaconda3\\lib\\site-packages\\sklearn\\metrics\\_regression.py\u001b[0m in \u001b[0;36mr2_score\u001b[1;34m(y_true, y_pred, sample_weight, multioutput)\u001b[0m\n\u001b[0;32m    586\u001b[0m     \u001b[1;33m-\u001b[0m\u001b[1;36m3.0\u001b[0m\u001b[1;33m\u001b[0m\u001b[1;33m\u001b[0m\u001b[0m\n\u001b[0;32m    587\u001b[0m     \"\"\"\n\u001b[1;32m--> 588\u001b[1;33m     y_type, y_true, y_pred, multioutput = _check_reg_targets(\n\u001b[0m\u001b[0;32m    589\u001b[0m         y_true, y_pred, multioutput)\n\u001b[0;32m    590\u001b[0m     \u001b[0mcheck_consistent_length\u001b[0m\u001b[1;33m(\u001b[0m\u001b[0my_true\u001b[0m\u001b[1;33m,\u001b[0m \u001b[0my_pred\u001b[0m\u001b[1;33m,\u001b[0m \u001b[0msample_weight\u001b[0m\u001b[1;33m)\u001b[0m\u001b[1;33m\u001b[0m\u001b[1;33m\u001b[0m\u001b[0m\n",
      "\u001b[1;32m~\\anaconda3\\lib\\site-packages\\sklearn\\metrics\\_regression.py\u001b[0m in \u001b[0;36m_check_reg_targets\u001b[1;34m(y_true, y_pred, multioutput, dtype)\u001b[0m\n\u001b[0;32m     84\u001b[0m     \u001b[0mcheck_consistent_length\u001b[0m\u001b[1;33m(\u001b[0m\u001b[0my_true\u001b[0m\u001b[1;33m,\u001b[0m \u001b[0my_pred\u001b[0m\u001b[1;33m)\u001b[0m\u001b[1;33m\u001b[0m\u001b[1;33m\u001b[0m\u001b[0m\n\u001b[0;32m     85\u001b[0m     \u001b[0my_true\u001b[0m \u001b[1;33m=\u001b[0m \u001b[0mcheck_array\u001b[0m\u001b[1;33m(\u001b[0m\u001b[0my_true\u001b[0m\u001b[1;33m,\u001b[0m \u001b[0mensure_2d\u001b[0m\u001b[1;33m=\u001b[0m\u001b[1;32mFalse\u001b[0m\u001b[1;33m,\u001b[0m \u001b[0mdtype\u001b[0m\u001b[1;33m=\u001b[0m\u001b[0mdtype\u001b[0m\u001b[1;33m)\u001b[0m\u001b[1;33m\u001b[0m\u001b[1;33m\u001b[0m\u001b[0m\n\u001b[1;32m---> 86\u001b[1;33m     \u001b[0my_pred\u001b[0m \u001b[1;33m=\u001b[0m \u001b[0mcheck_array\u001b[0m\u001b[1;33m(\u001b[0m\u001b[0my_pred\u001b[0m\u001b[1;33m,\u001b[0m \u001b[0mensure_2d\u001b[0m\u001b[1;33m=\u001b[0m\u001b[1;32mFalse\u001b[0m\u001b[1;33m,\u001b[0m \u001b[0mdtype\u001b[0m\u001b[1;33m=\u001b[0m\u001b[0mdtype\u001b[0m\u001b[1;33m)\u001b[0m\u001b[1;33m\u001b[0m\u001b[1;33m\u001b[0m\u001b[0m\n\u001b[0m\u001b[0;32m     87\u001b[0m \u001b[1;33m\u001b[0m\u001b[0m\n\u001b[0;32m     88\u001b[0m     \u001b[1;32mif\u001b[0m \u001b[0my_true\u001b[0m\u001b[1;33m.\u001b[0m\u001b[0mndim\u001b[0m \u001b[1;33m==\u001b[0m \u001b[1;36m1\u001b[0m\u001b[1;33m:\u001b[0m\u001b[1;33m\u001b[0m\u001b[1;33m\u001b[0m\u001b[0m\n",
      "\u001b[1;32m~\\anaconda3\\lib\\site-packages\\sklearn\\utils\\validation.py\u001b[0m in \u001b[0;36minner_f\u001b[1;34m(*args, **kwargs)\u001b[0m\n\u001b[0;32m     70\u001b[0m                           FutureWarning)\n\u001b[0;32m     71\u001b[0m         \u001b[0mkwargs\u001b[0m\u001b[1;33m.\u001b[0m\u001b[0mupdate\u001b[0m\u001b[1;33m(\u001b[0m\u001b[1;33m{\u001b[0m\u001b[0mk\u001b[0m\u001b[1;33m:\u001b[0m \u001b[0marg\u001b[0m \u001b[1;32mfor\u001b[0m \u001b[0mk\u001b[0m\u001b[1;33m,\u001b[0m \u001b[0marg\u001b[0m \u001b[1;32min\u001b[0m \u001b[0mzip\u001b[0m\u001b[1;33m(\u001b[0m\u001b[0msig\u001b[0m\u001b[1;33m.\u001b[0m\u001b[0mparameters\u001b[0m\u001b[1;33m,\u001b[0m \u001b[0margs\u001b[0m\u001b[1;33m)\u001b[0m\u001b[1;33m}\u001b[0m\u001b[1;33m)\u001b[0m\u001b[1;33m\u001b[0m\u001b[1;33m\u001b[0m\u001b[0m\n\u001b[1;32m---> 72\u001b[1;33m         \u001b[1;32mreturn\u001b[0m \u001b[0mf\u001b[0m\u001b[1;33m(\u001b[0m\u001b[1;33m**\u001b[0m\u001b[0mkwargs\u001b[0m\u001b[1;33m)\u001b[0m\u001b[1;33m\u001b[0m\u001b[1;33m\u001b[0m\u001b[0m\n\u001b[0m\u001b[0;32m     73\u001b[0m     \u001b[1;32mreturn\u001b[0m \u001b[0minner_f\u001b[0m\u001b[1;33m\u001b[0m\u001b[1;33m\u001b[0m\u001b[0m\n\u001b[0;32m     74\u001b[0m \u001b[1;33m\u001b[0m\u001b[0m\n",
      "\u001b[1;32m~\\anaconda3\\lib\\site-packages\\sklearn\\utils\\validation.py\u001b[0m in \u001b[0;36mcheck_array\u001b[1;34m(array, accept_sparse, accept_large_sparse, dtype, order, copy, force_all_finite, ensure_2d, allow_nd, ensure_min_samples, ensure_min_features, estimator)\u001b[0m\n\u001b[0;32m    642\u001b[0m \u001b[1;33m\u001b[0m\u001b[0m\n\u001b[0;32m    643\u001b[0m         \u001b[1;32mif\u001b[0m \u001b[0mforce_all_finite\u001b[0m\u001b[1;33m:\u001b[0m\u001b[1;33m\u001b[0m\u001b[1;33m\u001b[0m\u001b[0m\n\u001b[1;32m--> 644\u001b[1;33m             _assert_all_finite(array,\n\u001b[0m\u001b[0;32m    645\u001b[0m                                allow_nan=force_all_finite == 'allow-nan')\n\u001b[0;32m    646\u001b[0m \u001b[1;33m\u001b[0m\u001b[0m\n",
      "\u001b[1;32m~\\anaconda3\\lib\\site-packages\\sklearn\\utils\\validation.py\u001b[0m in \u001b[0;36m_assert_all_finite\u001b[1;34m(X, allow_nan, msg_dtype)\u001b[0m\n\u001b[0;32m     94\u001b[0m                 not allow_nan and not np.isfinite(X).all()):\n\u001b[0;32m     95\u001b[0m             \u001b[0mtype_err\u001b[0m \u001b[1;33m=\u001b[0m \u001b[1;34m'infinity'\u001b[0m \u001b[1;32mif\u001b[0m \u001b[0mallow_nan\u001b[0m \u001b[1;32melse\u001b[0m \u001b[1;34m'NaN, infinity'\u001b[0m\u001b[1;33m\u001b[0m\u001b[1;33m\u001b[0m\u001b[0m\n\u001b[1;32m---> 96\u001b[1;33m             raise ValueError(\n\u001b[0m\u001b[0;32m     97\u001b[0m                     \u001b[0mmsg_err\u001b[0m\u001b[1;33m.\u001b[0m\u001b[0mformat\u001b[0m\u001b[1;33m\u001b[0m\u001b[1;33m\u001b[0m\u001b[0m\n\u001b[0;32m     98\u001b[0m                     (type_err,\n",
      "\u001b[1;31mValueError\u001b[0m: Input contains NaN, infinity or a value too large for dtype('float64')."
     ]
    }
   ],
   "source": [
    "temp_lst = []\n",
    "neighbors = np.arange(2, 10)\n",
    "for i in tqdm(range(2, 9)):\n",
    "    kf = KFold(n_splits = i)\n",
    "    for train_index, test_index in kf.split(ad_post_x):\n",
    "        X_train, X_test = ad_post_x[train_index], ad_post_x[test_index]\n",
    "        y_train, y_test = ad_post_y[train_index], ad_post_y[test_index]\n",
    "        for n, r in zip(np.arange(2, 9), np.linspace(1, 2, 8)):\n",
    "            for w in weights:\n",
    "                knr = KNeighborsRegressor(n_neighbors = n, weights = w)\n",
    "                rnr = RadiusNeighborsRegressor(radius = r, weights = w)\n",
    "                knr.fit(X_train, y_train)\n",
    "                rnr.fit(X_train, y_train)\n",
    "                temp_lst2 = []\n",
    "                temp_lst2.append(i)\n",
    "                temp_lst2.append(n)\n",
    "                temp_lst2.append(r)\n",
    "                temp_lst2.append(w)\n",
    "                temp_lst2.append(knr.score(X_train, y_train))\n",
    "                temp_lst2.append(rnr.score(X_train, y_train))\n",
    "                temp_lst2.append(knr.score(X_test, y_test))\n",
    "#                 temp_lst2.append(0)\n",
    "                temp_lst2.append(rnr.score(X_test, y_test))\n",
    "                temp_lst.append(temp_lst2)\n",
    "\n",
    "temp_df = pd.DataFrame(temp_lst, columns=['k', '# of Neighbors (Only KNR)', '# of Radius (Only RNR)', 'Weights', 'KNR Train Score', 'RNR Train Score', \n",
    "                                          'KNR Test Score', 'RNR Test Score'])\n",
    "\n",
    "temp_lst = []\n",
    "for k in range(2, 9):\n",
    "    for n_, r_ in zip(np.arange(2, 9), np.linspace(1, 2, 8)):\n",
    "        for w_ in weights:\n",
    "            temp_lst2 = []\n",
    "            temp_lst2.append(k)\n",
    "            temp_lst2.append(n_)\n",
    "            temp_lst2.append(r_)\n",
    "            temp_lst2.append(w_)\n",
    "            temp_lst2.append(np.round(np.mean(temp_df[(temp_df['k'] == k) & (temp_df['# of Neighbors (Only KNR)'] == n_) & \n",
    "                                                      (temp_df['# of Radius (Only RNR)'] == r_) & (temp_df['Weights'] == w_)]['KNR Train Score']), decimals=4))\n",
    "            temp_lst2.append(np.round(np.mean(temp_df[(temp_df['k'] == k) & (temp_df['# of Neighbors (Only KNR)'] == n_) & \n",
    "                                                      (temp_df['# of Radius (Only RNR)'] == r_) & (temp_df['Weights'] == w_)]['RNR Train Score']), decimals=4))\n",
    "            temp_lst2.append(np.round(np.mean(temp_df[(temp_df['k'] == k) & (temp_df['# of Neighbors (Only KNR)'] == n_) & \n",
    "                                                      (temp_df['# of Radius (Only RNR)'] == r_) & (temp_df['Weights'] == w_)]['KNR Test Score']), decimals=4))\n",
    "            temp_lst2.append(np.round(np.mean(temp_df[(temp_df['k'] == k) & (temp_df['# of Neighbors (Only KNR)'] == n_) & \n",
    "                                                      (temp_df['# of Radius (Only RNR)'] == r_) & (temp_df['Weights'] == w_)]['RNR Test Score']), decimals=4))\n",
    "            temp_lst.append(temp_lst2)\n",
    "\n",
    "nn_reg_eval_df = pd.DataFrame(temp_lst, columns=['k', '# of Neighbors (Only KNR)', '# of Radius (Only RNR)', 'Weights', 'KNR Train Score', 'RNR Train Score', \n",
    "                                                 'KNR Test Score', 'RNR Test Score'])\n",
    "nn_reg_eval_df"
   ]
  },
  {
   "cell_type": "code",
   "execution_count": 48,
   "metadata": {},
   "outputs": [
    {
     "data": {
      "text/html": [
       "<div>\n",
       "<style scoped>\n",
       "    .dataframe tbody tr th:only-of-type {\n",
       "        vertical-align: middle;\n",
       "    }\n",
       "\n",
       "    .dataframe tbody tr th {\n",
       "        vertical-align: top;\n",
       "    }\n",
       "\n",
       "    .dataframe thead th {\n",
       "        text-align: right;\n",
       "    }\n",
       "</style>\n",
       "<table border=\"1\" class=\"dataframe\">\n",
       "  <thead>\n",
       "    <tr style=\"text-align: right;\">\n",
       "      <th></th>\n",
       "      <th>k</th>\n",
       "      <th># of Neighbors (Only KNR)</th>\n",
       "      <th># of Radius (Only RNR)</th>\n",
       "      <th>Weights</th>\n",
       "      <th>KNR Train Score</th>\n",
       "      <th>RNR Train Score</th>\n",
       "      <th>KNR Test Score</th>\n",
       "      <th>RNR Test Score</th>\n",
       "    </tr>\n",
       "  </thead>\n",
       "  <tbody>\n",
       "    <tr>\n",
       "      <th>64</th>\n",
       "      <td>6</td>\n",
       "      <td>2</td>\n",
       "      <td>1.00</td>\n",
       "      <td>uniform</td>\n",
       "      <td>0.88</td>\n",
       "      <td>1.00</td>\n",
       "      <td>0.44</td>\n",
       "      <td>0.00</td>\n",
       "    </tr>\n",
       "    <tr>\n",
       "      <th>65</th>\n",
       "      <td>6</td>\n",
       "      <td>2</td>\n",
       "      <td>1.00</td>\n",
       "      <td>distance</td>\n",
       "      <td>1.00</td>\n",
       "      <td>1.00</td>\n",
       "      <td>0.43</td>\n",
       "      <td>0.00</td>\n",
       "    </tr>\n",
       "    <tr>\n",
       "      <th>17</th>\n",
       "      <td>3</td>\n",
       "      <td>2</td>\n",
       "      <td>1.00</td>\n",
       "      <td>distance</td>\n",
       "      <td>1.00</td>\n",
       "      <td>1.00</td>\n",
       "      <td>0.37</td>\n",
       "      <td>0.00</td>\n",
       "    </tr>\n",
       "  </tbody>\n",
       "</table>\n",
       "</div>"
      ],
      "text/plain": [
       "    k  # of Neighbors (Only KNR)  # of Radius (Only RNR)   Weights  \\\n",
       "64  6                          2                    1.00   uniform   \n",
       "65  6                          2                    1.00  distance   \n",
       "17  3                          2                    1.00  distance   \n",
       "\n",
       "    KNR Train Score  RNR Train Score  KNR Test Score  RNR Test Score  \n",
       "64             0.88             1.00            0.44            0.00  \n",
       "65             1.00             1.00            0.43            0.00  \n",
       "17             1.00             1.00            0.37            0.00  "
      ]
     },
     "execution_count": 48,
     "metadata": {},
     "output_type": "execute_result"
    }
   ],
   "source": [
    "nn_reg_eval_df.nlargest(3, 'KNR Test Score')"
   ]
  },
  {
   "cell_type": "code",
   "execution_count": null,
   "metadata": {},
   "outputs": [],
   "source": []
  }
 ],
 "metadata": {
  "kernelspec": {
   "display_name": "Python 3",
   "language": "python",
   "name": "python3"
  },
  "language_info": {
   "codemirror_mode": {
    "name": "ipython",
    "version": 3
   },
   "file_extension": ".py",
   "mimetype": "text/x-python",
   "name": "python",
   "nbconvert_exporter": "python",
   "pygments_lexer": "ipython3",
   "version": "3.8.5"
  }
 },
 "nbformat": 4,
 "nbformat_minor": 4
}
